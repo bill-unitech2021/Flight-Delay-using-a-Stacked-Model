{
 "cells": [
  {
   "cell_type": "markdown",
   "metadata": {},
   "source": [
    "<div align=center> <font color=\"#3C5BDA\" size=8 face=\"微软雅黑\"> Arrival Time Prediction using a Stacked Model </font> </div>"
   ]
  },
  {
   "cell_type": "markdown",
   "metadata": {},
   "source": [
    "### Table of Contents:\n",
    "- 1. Import Dependencies\n",
    "- 2. Exploratory Data Analysis (EDA) and Data Preprocessing\n",
    "    - Loading and Processing flight_data.csv and JFK NYC LGA Weather.csv\n",
    "    - Creating, Loading and Processing JFK EWR and LGA Flights.csv\n",
    "- 3. Data Modeling and Evaluation\n",
    "    - Creating a XGBoost Regressor\n",
    "    - Creating a CatBoost Regressor\n",
    "    - Evaluating the CatBoost and XGBoost Regressor\n",
    "    - Creating a Stacked Model\n",
    "    - Evaluating the Stacked Model\n",
    "- 4. Conclusion"
   ]
  },
  {
   "cell_type": "markdown",
   "metadata": {},
   "source": [
    "<div align=center> <font color=\"#3C5BDA\" size= face=\"1. Import Dependencies\"> Arrival Time Prediction using a Stacked Model </font> </div>"
   ]
  },
  {
   "cell_type": "code",
   "execution_count": 1,
   "metadata": {},
   "outputs": [],
   "source": [
    "import pandas as pd"
   ]
  },
  {
   "cell_type": "code",
   "execution_count": null,
   "metadata": {},
   "outputs": [],
   "source": []
  },
  {
   "cell_type": "code",
   "execution_count": null,
   "metadata": {},
   "outputs": [],
   "source": []
  },
  {
   "cell_type": "code",
   "execution_count": null,
   "metadata": {},
   "outputs": [],
   "source": []
  },
  {
   "cell_type": "code",
   "execution_count": null,
   "metadata": {},
   "outputs": [],
   "source": []
  }
 ],
 "metadata": {
  "kernelspec": {
   "display_name": "base",
   "language": "python",
   "name": "python3"
  },
  "language_info": {
   "codemirror_mode": {
    "name": "ipython",
    "version": 3
   },
   "file_extension": ".py",
   "mimetype": "text/x-python",
   "name": "python",
   "nbconvert_exporter": "python",
   "pygments_lexer": "ipython3",
   "version": "3.10.13"
  }
 },
 "nbformat": 4,
 "nbformat_minor": 2
}
