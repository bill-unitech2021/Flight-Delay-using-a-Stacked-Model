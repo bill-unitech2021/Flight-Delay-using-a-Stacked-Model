{
 "cells": [
  {
   "cell_type": "markdown",
   "metadata": {},
   "source": [
    "<div align=center> <font color=\"#3C5BDA\" size=8 face=\"微软雅黑\"> Arrival Time Prediction using a Stacked Model </font> </div>"
   ]
  },
  {
   "cell_type": "markdown",
   "metadata": {},
   "source": [
    "### Table of Contents:\n",
    "- 1. Import Dependencies\n",
    "- 2. Exploratory Data Analysis (EDA) and Data Preprocessing\n",
    "    - Loading and Processing flight_data.csv and JFK NYC LGA Weather.csv\n",
    "    - Creating, Loading and Processing JFK EWR and LGA Flights.csv\n",
    "- 3. Data Modeling and Evaluation\n",
    "    - Creating a XGBoost Regressor\n",
    "    - Creating a CatBoost Regressor\n",
    "    - Evaluating the CatBoost and XGBoost Regressor\n",
    "    - Creating a Stacked Model\n",
    "    - Evaluating the Stacked Model\n",
    "- 4. Conclusion"
   ]
  },
  {
   "cell_type": "markdown",
   "metadata": {},
   "source": [
    "<div align=center> <font color=\"#3C5BDA\" size=6 face=\"微软雅黑\"> 1. Import Dependencies </font> </div>"
   ]
  },
  {
   "cell_type": "code",
   "execution_count": 6,
   "metadata": {},
   "outputs": [],
   "source": [
    "import numpy as np\n",
    "import pandas as pd\n",
    "import matplotlib.pyplot as plt\n",
    "import seaborn as sns\n",
    "sns.set_style('darkgrid')\n",
    "import tensorflow as tf\n",
    "from tensorflow.keras.models import Model, save_model, load_model\n",
    "from tensorflow.keras.layers import Dropout, Input, Dense\n",
    "from tensorflow.keras.utils import plot_model\n",
    "from tensorflow.keras.callbacks import EarlyStopping, ModelCheckpoint, ReduceLROnPlateau\n",
    "from sklearn.metrics import mean_absolute_error, mean_squared_error, r2_score\n",
    "from sklearn.model_selection import train_test_split, KFold\n",
    "from sklearn.preprocessing import MinMaxScaler, LabelEncoder, OneHotEncoder\n",
    "from sklearn.ensemble import StackingRegressor\n",
    "from sklearn.compose import ColumnTransformer\n",
    "from sklearn.pipeline import Pipeline\n",
    "from sklearn.base import BaseEstimator, TransformerMixin\n",
    "from catboost import CatBoostRegressor\n",
    "import xgboost as xgb \n",
    "from itertools import product\n",
    "import regex as re\n",
    "import optuna\n",
    "import holidays\n",
    "from pickle import dump, load\n",
    "import warnings\n",
    "warnings.filterwarnings('ignore')"
   ]
  },
  {
   "cell_type": "code",
   "execution_count": 7,
   "metadata": {},
   "outputs": [],
   "source": [
    "# everything is installed in this codespace"
   ]
  },
  {
   "cell_type": "markdown",
   "metadata": {},
   "source": [
    "<div align=center> <font color=\"#3C5BDA\" size=6 face=\"微软雅黑\"> 2. EDA and Data Preprocessing </font> </div>"
   ]
  },
  {
   "cell_type": "markdown",
   "metadata": {},
   "source": [
    "### Loading and Processing flight_data.csv and JFK NYC LGA Weather.csv"
   ]
  },
  {
   "cell_type": "code",
   "execution_count": null,
   "metadata": {},
   "outputs": [],
   "source": [
    "flights = pd.read_csv('/data/flight_data.csv')\n",
    "flights.head()"
   ]
  }
 ],
 "metadata": {
  "kernelspec": {
   "display_name": "base",
   "language": "python",
   "name": "python3"
  },
  "language_info": {
   "codemirror_mode": {
    "name": "ipython",
    "version": 3
   },
   "file_extension": ".py",
   "mimetype": "text/x-python",
   "name": "python",
   "nbconvert_exporter": "python",
   "pygments_lexer": "ipython3",
   "version": "3.10.8"
  }
 },
 "nbformat": 4,
 "nbformat_minor": 2
}
